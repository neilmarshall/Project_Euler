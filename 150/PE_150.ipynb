{
 "cells": [
  {
   "cell_type": "markdown",
   "metadata": {},
   "source": [
    "# Project Euler - Problem 150"
   ]
  },
  {
   "cell_type": "markdown",
   "metadata": {},
   "source": [
    "## Searching a triangular array for a sub-triangle having minimum-sum "
   ]
  },
  {
   "cell_type": "code",
   "execution_count": null,
   "metadata": {},
   "outputs": [],
   "source": [
    "from math import inf"
   ]
  },
  {
   "cell_type": "markdown",
   "metadata": {},
   "source": [
    "### Sample Problem"
   ]
  },
  {
   "cell_type": "code",
   "execution_count": null,
   "metadata": {},
   "outputs": [],
   "source": [
    "triangle = [\n",
    "    [15],\n",
    "    [-14, -7],\n",
    "    [20, -13, -5],\n",
    "    [-3, 8, 23, -26],\n",
    "    [1, -4, -5, -18, 5],\n",
    "    [-16, 31, 2, 9, 28, 3]\n",
    "]"
   ]
  },
  {
   "cell_type": "markdown",
   "metadata": {},
   "source": [
    "The sub-triangle with miminum sum is -42."
   ]
  },
  {
   "cell_type": "code",
   "execution_count": null,
   "metadata": {},
   "outputs": [],
   "source": [
    "def extract(source, row, index, height):\n",
    "    \"\"\"Return sub-triangle of source, starting at specified row and index, with specified height\"\"\"\n",
    "    if row >= len(source):\n",
    "        raise ValueError(\"invalid row\")\n",
    "    if index >= len(source[row]):\n",
    "        raise ValueError(\"invalid index\")\n",
    "    if row + height > len(source):\n",
    "        raise ValueError(\"invalid height\")\n",
    "    subtriangle = []\n",
    "    for i, r in enumerate(range(row, row + height), 1):\n",
    "        subtriangle.append(source[r][index : index + i])\n",
    "    return subtriangle"
   ]
  },
  {
   "cell_type": "code",
   "execution_count": null,
   "metadata": {},
   "outputs": [],
   "source": [
    "extract(triangle, 1, 1, 4)"
   ]
  },
  {
   "cell_type": "markdown",
   "metadata": {},
   "source": [
    "### Brute-force approach"
   ]
  },
  {
   "cell_type": "code",
   "execution_count": null,
   "metadata": {},
   "outputs": [],
   "source": [
    "def brute_force(source):\n",
    "    min_sum = inf\n",
    "    for row in range(len(source)):\n",
    "        for index in range(len(source[row])):\n",
    "            for height in range(1, len(source) - row):\n",
    "                sub_triangle_sum = sum(sum(r) for r in extract(source, row, index, height))\n",
    "                min_sum = min(min_sum, sub_triangle_sum)\n",
    "    return min_sum"
   ]
  },
  {
   "cell_type": "code",
   "execution_count": null,
   "metadata": {},
   "outputs": [],
   "source": [
    "brute_force(triangle)"
   ]
  },
  {
   "cell_type": "code",
   "execution_count": null,
   "metadata": {},
   "outputs": [],
   "source": [
    "def generate_simple_triangle(height):\n",
    "    return [[i + 1 for i in range(h + 1)] for h in range(height)]"
   ]
  },
  {
   "cell_type": "markdown",
   "metadata": {},
   "source": [
    "<em>This approach is far too slow for a large triangle!</em>"
   ]
  },
  {
   "cell_type": "markdown",
   "metadata": {},
   "source": [
    "## Approach 1"
   ]
  },
  {
   "cell_type": "markdown",
   "metadata": {},
   "source": [
    "Steps:\n",
    "<ol>\n",
    "    <li>Calculate sum of entire triangle</li>\n",
    "    <li>Whilst any boundary has a positive sum, excude this boundary</li>\n",
    "    <li>Continue until all boundaries are negative</li>\n",
    "</ol>"
   ]
  },
  {
   "cell_type": "code",
   "execution_count": null,
   "metadata": {},
   "outputs": [],
   "source": [
    "def algorithm_a(triangle):\n",
    "    if not triangle:\n",
    "        return 0\n",
    "    #print(triangle)\n",
    "    s = sum(map(sum, triangle))\n",
    "    #print(s)\n",
    "    # check bottom edge\n",
    "    if sum(triangle[-1]) > 0:\n",
    "        return algorithm_a(triangle[:-1])\n",
    "    # check right-hand edge\n",
    "    if sum(t[-1] for t in triangle) > 0:\n",
    "        return algorithm_a([t[:-1] for t in triangle if t[:-1]])\n",
    "    # check left-hand edge\n",
    "    if sum(t[0] for t in triangle) > 0:\n",
    "        return algorithm_a([t[1:] for t in triangle if t[1:]])\n",
    "    return s"
   ]
  },
  {
   "cell_type": "code",
   "execution_count": null,
   "metadata": {},
   "outputs": [],
   "source": [
    "algorithm_a(triangle)"
   ]
  },
  {
   "cell_type": "markdown",
   "metadata": {},
   "source": [
    "## Set up solution"
   ]
  },
  {
   "cell_type": "code",
   "execution_count": null,
   "metadata": {},
   "outputs": [],
   "source": [
    "def create_triangle(rows):\n",
    "    def t(n):\n",
    "        return n * (n + 1) // 2\n",
    "    def LCG(limit):\n",
    "        t = 0\n",
    "        for k in range(limit):\n",
    "            t = (615949 * t + 797807) % 2**20\n",
    "            yield t - 2**19\n",
    "    elements = list(LCG(t(rows)))\n",
    "    return [elements[t(i - 1): t(i)] for i in range(1, rows + 1)]"
   ]
  },
  {
   "cell_type": "code",
   "execution_count": null,
   "metadata": {
    "scrolled": true
   },
   "outputs": [],
   "source": [
    "t = create_triangle(10)\n",
    "print(t)\n",
    "algorithm_a(t)"
   ]
  }
 ],
 "metadata": {
  "kernelspec": {
   "display_name": "Python 3",
   "language": "python",
   "name": "python3"
  },
  "language_info": {
   "codemirror_mode": {
    "name": "ipython",
    "version": 3
   },
   "file_extension": ".py",
   "mimetype": "text/x-python",
   "name": "python",
   "nbconvert_exporter": "python",
   "pygments_lexer": "ipython3",
   "version": "3.9.0"
  }
 },
 "nbformat": 4,
 "nbformat_minor": 4
}

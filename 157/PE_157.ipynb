{
 "cells": [
  {
   "cell_type": "markdown",
   "metadata": {},
   "source": [
    "# Problem Description"
   ]
  },
  {
   "cell_type": "markdown",
   "metadata": {},
   "source": [
    "Consider the diophantine equation $\\frac{1}{a}+\\frac{1}{b}= \\frac{p}{10^n}$ with $a, b, p, n$ positive integers and $a ≤ b$.\n",
    "\n",
    "How many solutions has this equation for $1 ≤ n ≤ 9$?"
   ]
  },
  {
   "cell_type": "markdown",
   "metadata": {},
   "source": [
    "Rearrange equation as follows:\n",
    "\n",
    "$10^n(a + b) = pab$\n",
    "\n",
    "For a given value of $a$ we can find the minimum value of $p$ as follows:\n",
    "\n",
    "$p_{min} = \\frac{10^n}{a}$\n",
    "\n",
    "For a given value of $a$ and $p$ we can find the value of $b$ as follows:\n",
    "\n",
    "$b = \\frac{(10^n a)}{(p \\cdot a - 10^n)}$"
   ]
  },
  {
   "cell_type": "markdown",
   "metadata": {},
   "source": [
    "Solutions $a, b, p$ for $n = 1$ are:\n",
    "\n",
    "$1, 1, 20$\n",
    "\n",
    "$1, 2, 15$\n",
    "\n",
    "$1, 5, 12$\n",
    "\n",
    "$1, 10, 11$\n",
    "\n",
    "$2, 2, 10$\n",
    "\n",
    "$2, 5, 7$\n",
    "\n",
    "$2, 10, 6$\n",
    "\n",
    "$3, 6, 5$\n",
    "\n",
    "$3, 15, 4$\n",
    "\n",
    "$4, 4, 5$\n",
    "\n",
    "$4, 20, 3$\n",
    "\n",
    "$5, 5, 4$\n",
    "\n",
    "$5, 10, 3$\n",
    "\n",
    "$6, 30, 2$\n",
    "\n",
    "$10, 10, 2$\n",
    "\n",
    "$11, 110, 1$\n",
    "\n",
    "$12, 60, 1$\n",
    "\n",
    "$14, 35, 1$\n",
    "\n",
    "$15, 30, 1$\n",
    "\n",
    "$20, 20, 1$"
   ]
  },
  {
   "cell_type": "markdown",
   "metadata": {},
   "source": [
    "# Brute Force Approach "
   ]
  },
  {
   "cell_type": "code",
   "execution_count": null,
   "metadata": {},
   "outputs": [],
   "source": [
    "def solve(n):\n",
    "    infer = lambda p, a: (10**n * a) / (p * a - 10**n)\n",
    "    def solve_for_a(a):\n",
    "        solutions = 0\n",
    "        p = int(10**n / a) + 1\n",
    "        b = infer(p, a)\n",
    "        while b >= a:\n",
    "            if (abs(int(b) - b) == 0):\n",
    "                solutions += 1\n",
    "            p += 1\n",
    "            b = infer(p, a)\n",
    "        return solutions\n",
    "    a = 1\n",
    "    solutions = 0\n",
    "    while True:\n",
    "        solutions += solve_for_a(a)\n",
    "        a += 1\n",
    "        p = int(10**n / a) + 1\n",
    "        b = infer(p, a)\n",
    "        if b < a:\n",
    "            break\n",
    "    return solutions"
   ]
  },
  {
   "cell_type": "markdown",
   "metadata": {},
   "source": [
    "# Look into prime factorization"
   ]
  },
  {
   "cell_type": "code",
   "execution_count": null,
   "metadata": {},
   "outputs": [],
   "source": [
    "from nmutils.primes import get_prime_factors\n",
    "def factorize(n):\n",
    "    factors = get_prime_factors(n)\n",
    "    if len(factors) > 1:\n",
    "        return [int(factor) for factor in factors]\n",
    "    return factors[0] if factors else 1"
   ]
  },
  {
   "cell_type": "code",
   "execution_count": null,
   "metadata": {},
   "outputs": [],
   "source": [
    "solutions = [[1, 1, 20], [1, 2, 15], [1, 5, 12], [1, 10, 11],\n",
    "             [2, 2, 10], [2, 5, 7], [2, 10, 6], [3, 6, 5],\n",
    "             [3, 15, 4], [4, 4, 5], [4, 20, 3], [5, 5, 4],\n",
    "             [5, 10, 3], [6, 30, 2], [10, 10, 2], [11, 110, 1],\n",
    "             [12, 60, 1], [14, 35, 1], [15, 30, 1], [20, 20, 1]]"
   ]
  },
  {
   "cell_type": "code",
   "execution_count": null,
   "metadata": {},
   "outputs": [],
   "source": [
    "for solution in solutions:\n",
    "    a, b, p = solution\n",
    "    print(solution, f\"\\t-->\\t10 x ({a} + {b}) = {p} x {a} x {b}\")\n",
    "    print([factorize(x) for x in solution])\n",
    "    print('-' * 60)"
   ]
  },
  {
   "cell_type": "markdown",
   "metadata": {},
   "source": [
    "Fix $a = 3, n = 1$ - then $p_{min} = ceiling(\\frac{10^1}{3}) = 4$. If $p = 3$ then $b = \\frac{(10^1 \\cdot 3)}{(4 \\cdot 3 - 10^1)} = \\frac{30}{2} = 15$."
   ]
  },
  {
   "cell_type": "markdown",
   "metadata": {},
   "source": [
    "So for $a = 3$ and $n = 1$ we have $p \\geq 4$ and $b \\leq 15$."
   ]
  },
  {
   "cell_type": "markdown",
   "metadata": {},
   "source": [
    "Let's look at values of $b$ in the range $[3, 15]$ and see what we get!"
   ]
  },
  {
   "cell_type": "code",
   "execution_count": null,
   "metadata": {},
   "outputs": [],
   "source": [
    "a = 3\n",
    "for b in range(15, 2, -1):\n",
    "    print(f\"10 x ({a} + {b}) = {10 * (a + b)} = p x {a} x {b} --> p = {10 * (a + b) / (a * b):.3f} --> {10 * (a + b) % (a * b) == 0}\")"
   ]
  },
  {
   "cell_type": "markdown",
   "metadata": {},
   "source": [
    "From this we can see that if $p$ is to divide $10(a+b)$ then the product $a \\cdot b$ must divide $10(a+b)$.\n",
    "\n",
    "In other words, for given $n$ and $a$, we have a solution for $b$ precisely when $10^n(a + b) \\mod a \\cdot b = 0$!"
   ]
  },
  {
   "cell_type": "markdown",
   "metadata": {},
   "source": [
    "Does this pose a solution?\n",
    "\n",
    "For given $n$:\n",
    "<ol>\n",
    "    <li>Start with $a=1$</li>\n",
    "    <li>Calculate $p_{min} = ceiling(\\frac{10^n}{a})$</li>\n",
    "    <li>Calculate $b_{max} = \\frac{(10^n a)}{(p_{min} \\cdot a - 10^n)}$</li>\n",
    "    <li>$\\forall b \\in [a, b_{max}]$, count number of solutions where $10^n(a + b) \\mod a \\cdot b = 0$</li>\n",
    "    <li>Increment $a$ and repeat</li>\n",
    "    <li>Stop when $a \\gt b$</li>\n",
    "</ol>"
   ]
  },
  {
   "cell_type": "code",
   "execution_count": null,
   "metadata": {},
   "outputs": [],
   "source": [
    "from itertools import count, takewhile\n",
    "from math import ceil"
   ]
  },
  {
   "cell_type": "code",
   "execution_count": null,
   "metadata": {},
   "outputs": [],
   "source": [
    "def elegant(n):\n",
    "    def solve_for_a(a):\n",
    "        pmin = ceil(10**n / a)\n",
    "        if pmin * a == 10**n:\n",
    "            pmin += 1\n",
    "        bmax = int((10**n * a) / (pmin * a - 10**n))\n",
    "        if bmax < a:\n",
    "            return None\n",
    "        solutions = 0\n",
    "        for b in range(a, bmax + 1):\n",
    "            if 10**n * (a + b) % (a * b) == 0:\n",
    "                solutions += 1\n",
    "        return solutions\n",
    "    infinite_solutions = map(solve_for_a, count(1))\n",
    "    solutions = takewhile(lambda s: s is not None, infinite_solutions)\n",
    "    return sum(solutions)"
   ]
  },
  {
   "cell_type": "code",
   "execution_count": null,
   "metadata": {
    "scrolled": true
   },
   "outputs": [],
   "source": [
    "%%time\n",
    "[elegant(n) for n in range(1, 4)]"
   ]
  },
  {
   "cell_type": "markdown",
   "metadata": {},
   "source": [
    "# Combine brute force with elegant solution"
   ]
  },
  {
   "cell_type": "code",
   "execution_count": null,
   "metadata": {},
   "outputs": [],
   "source": [
    "def solve2(n):\n",
    "    infer = lambda p, a: int((10**n * a) / (p * a - 10**n))\n",
    "    def solve_for_a(a):\n",
    "        check_solution = lambda b: 10**n * (a + b) % (a * b) == 0\n",
    "        solutions = set()#0\n",
    "        p = int(10**n / a) + 1\n",
    "        b = infer(p, a)\n",
    "        while b >= a:\n",
    "            #if check_solution(b) or check_solution(b + 1):\n",
    "            if check_solution(b):\n",
    "                #print(a, b, p)\n",
    "                solutions.add((a, b))\n",
    "                #solutions += 1\n",
    "            p += 1\n",
    "            b = infer(p, a)\n",
    "        return len(solutions)\n",
    "    a = 1\n",
    "    solutions = 0\n",
    "    while True:\n",
    "        solutions += solve_for_a(a)\n",
    "        a += 1\n",
    "        p = int(10**n / a) + 1\n",
    "        b = infer(p, a)\n",
    "        if b < a:\n",
    "            break\n",
    "    print(f\"{n}: {solutions}\")\n",
    "    return solutions"
   ]
  },
  {
   "cell_type": "code",
   "execution_count": null,
   "metadata": {},
   "outputs": [],
   "source": [
    "[solve2(n) for n in range(1, 5)]"
   ]
  },
  {
   "cell_type": "code",
   "execution_count": null,
   "metadata": {},
   "outputs": [],
   "source": [
    "20 + 102 + 356 + 958 + 2192 + 4456 + 8230 + 13361 + 18520"
   ]
  }
 ],
 "metadata": {
  "kernelspec": {
   "display_name": "Python 3",
   "language": "python",
   "name": "python3"
  },
  "language_info": {
   "codemirror_mode": {
    "name": "ipython",
    "version": 3
   },
   "file_extension": ".py",
   "mimetype": "text/x-python",
   "name": "python",
   "nbconvert_exporter": "python",
   "pygments_lexer": "ipython3",
   "version": "3.8.0"
  }
 },
 "nbformat": 4,
 "nbformat_minor": 4
}

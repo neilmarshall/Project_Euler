{
 "cells": [
  {
   "cell_type": "markdown",
   "metadata": {},
   "source": [
    "# Problem Description"
   ]
  },
  {
   "cell_type": "markdown",
   "metadata": {},
   "source": [
    "Consider the diophantine equation $\\frac{1}{a}+\\frac{1}{b}= \\frac{p}{10^n}$ with $a, b, p, n$ positive integers and $a ≤ b$.\n",
    "\n",
    "How many solutions has this equation for $1 ≤ n ≤ 9$?"
   ]
  },
  {
   "cell_type": "markdown",
   "metadata": {},
   "source": [
    "Rearrange equation as follows:\n",
    "\n",
    "$10^n(a + b) = pab$\n",
    "\n",
    "For a given value of $a$ and $p$ we can find the value of $b$ as follows:\n",
    "\n",
    "$b = \\frac{(10^n a)}{(p \\cdot a - 10^n)}$\n",
    "\n",
    "For a given value of $a$ we can find the minimum value of $p$ as follows:\n",
    "\n",
    "$p_{min} = \\frac{10^n}{a}$ (this follows from the fact that $p \\cdot a - 10^n > 0$)\n",
    "\n",
    "The minimum value for $b$ is when $b=a$, from which we can rearrange the above to get a mazimum value of $p$ as follows:\n",
    "\n",
    "$b = a = \\frac{(10^n a)}{(p \\cdot a - 10^n)} \\Rightarrow p = \\frac{2 \\cdot 10^n}{a}$"
   ]
  },
  {
   "cell_type": "markdown",
   "metadata": {},
   "source": [
    "Solutions $a, b, p$ for $n = 1$ are:\n",
    "\n",
    "$1, 1, 20$\n",
    "\n",
    "$1, 2, 15$\n",
    "\n",
    "$1, 5, 12$\n",
    "\n",
    "$1, 10, 11$\n",
    "\n",
    "$2, 2, 10$\n",
    "\n",
    "$2, 5, 7$\n",
    "\n",
    "$2, 10, 6$\n",
    "\n",
    "$3, 6, 5$\n",
    "\n",
    "$3, 15, 4$\n",
    "\n",
    "$4, 4, 5$\n",
    "\n",
    "$4, 20, 3$\n",
    "\n",
    "$5, 5, 4$\n",
    "\n",
    "$5, 10, 3$\n",
    "\n",
    "$6, 30, 2$\n",
    "\n",
    "$10, 10, 2$\n",
    "\n",
    "$11, 110, 1$\n",
    "\n",
    "$12, 60, 1$\n",
    "\n",
    "$14, 35, 1$\n",
    "\n",
    "$15, 30, 1$\n",
    "\n",
    "$20, 20, 1$"
   ]
  },
  {
   "cell_type": "markdown",
   "metadata": {},
   "source": [
    "# Brute Force Approach "
   ]
  },
  {
   "cell_type": "code",
   "execution_count": null,
   "metadata": {},
   "outputs": [],
   "source": [
    "def solve(n):\n",
    "    infer = lambda p, a: (10**n * a) / (p * a - 10**n)\n",
    "    def solve_for_a(a):\n",
    "        solutions = 0\n",
    "        p = int(10**n / a) + 1\n",
    "        b = infer(p, a)\n",
    "        while b >= a:\n",
    "            if (abs(int(b) - b) == 0):\n",
    "                solutions += 1\n",
    "            p += 1\n",
    "            b = infer(p, a)\n",
    "        return solutions\n",
    "    a = 1\n",
    "    solutions = 0\n",
    "    while True:\n",
    "        solutions += solve_for_a(a)\n",
    "        a += 1\n",
    "        p = int(10**n / a) + 1\n",
    "        b = infer(p, a)\n",
    "        if b < a:\n",
    "            break\n",
    "    return solutions"
   ]
  },
  {
   "cell_type": "markdown",
   "metadata": {},
   "source": [
    "# Look into prime factorization"
   ]
  },
  {
   "cell_type": "code",
   "execution_count": null,
   "metadata": {},
   "outputs": [],
   "source": [
    "from nmutils.primes import get_prime_factors\n",
    "def factorize(n):\n",
    "    factors = get_prime_factors(n)\n",
    "    if len(factors) > 1:\n",
    "        return [int(factor) for factor in factors]\n",
    "    return factors[0] if factors else 1"
   ]
  },
  {
   "cell_type": "code",
   "execution_count": null,
   "metadata": {},
   "outputs": [],
   "source": [
    "solutions = [[1, 1, 20], [1, 2, 15], [1, 5, 12], [1, 10, 11],\n",
    "             [2, 2, 10], [2, 5, 7], [2, 10, 6], [3, 6, 5],\n",
    "             [3, 15, 4], [4, 4, 5], [4, 20, 3], [5, 5, 4],\n",
    "             [5, 10, 3], [6, 30, 2], [10, 10, 2], [11, 110, 1],\n",
    "             [12, 60, 1], [14, 35, 1], [15, 30, 1], [20, 20, 1]]"
   ]
  },
  {
   "cell_type": "code",
   "execution_count": null,
   "metadata": {},
   "outputs": [],
   "source": [
    "for solution in solutions:\n",
    "    a, b, p = solution\n",
    "    print(solution, f\"\\t-->\\t10 x ({a} + {b}) = {p} x {a} x {b}\")\n",
    "    print([factorize(x) for x in solution])\n",
    "    print('-' * 60)"
   ]
  },
  {
   "cell_type": "markdown",
   "metadata": {},
   "source": [
    "Fix $a = 3, n = 1$ - then $p_{min} = ceiling(\\frac{10^1}{3}) = 4$. If $p = 4$ then $b = \\frac{(10^1 \\cdot 3)}{(4 \\cdot 3 - 10^1)} = \\frac{30}{2} = 15$."
   ]
  },
  {
   "cell_type": "markdown",
   "metadata": {},
   "source": [
    "So for $a = 3$ and $n = 1$ we have $p \\geq 4$ and $b \\leq 15$."
   ]
  },
  {
   "cell_type": "markdown",
   "metadata": {},
   "source": [
    "Let's look at values of $b$ in the range $[3, 15]$ and see what we get!"
   ]
  },
  {
   "cell_type": "code",
   "execution_count": null,
   "metadata": {},
   "outputs": [],
   "source": [
    "a = 3\n",
    "for b in range(15, 2, -1):\n",
    "    print(f\"10 x ({a} + {b}) = {10 * (a + b)} = p x {a} x {b} --> p = {10 * (a + b) / (a * b):.3f} --> {10 * (a + b) % (a * b) == 0}\")"
   ]
  },
  {
   "cell_type": "markdown",
   "metadata": {},
   "source": [
    "From this we can see that if $p$ is to divide $10(a+b)$ then the product $a \\cdot b$ must divide $10(a+b)$.\n",
    "\n",
    "In other words, for given $n$ and $a$, we have a solution for $b$ precisely when $10^n(a + b) \\mod a \\cdot b = 0$!"
   ]
  },
  {
   "cell_type": "markdown",
   "metadata": {},
   "source": [
    "Does this pose a solution?\n",
    "\n",
    "For given $n$:\n",
    "<ol>\n",
    "    <li>Start with $a=1$</li>\n",
    "    <li>Calculate $p_{min} = ceiling(\\frac{10^n}{a})$</li>\n",
    "    <li>Calculate $b_{max} = \\frac{(10^n a)}{(p_{min} \\cdot a - 10^n)}$</li>\n",
    "    <li>$\\forall b \\in [a, b_{max}]$, count number of solutions where $10^n(a + b) \\mod a \\cdot b = 0$</li>\n",
    "    <li>Increment $a$ and repeat</li>\n",
    "    <li>Stop when $a \\gt b$</li>\n",
    "</ol>"
   ]
  },
  {
   "cell_type": "code",
   "execution_count": null,
   "metadata": {},
   "outputs": [],
   "source": [
    "from itertools import count, takewhile\n",
    "from math import ceil"
   ]
  },
  {
   "cell_type": "code",
   "execution_count": null,
   "metadata": {},
   "outputs": [],
   "source": [
    "def elegant(n):\n",
    "    def solve_for_a(a):\n",
    "        pmin = ceil(10**n / a)\n",
    "        if pmin * a == 10**n:\n",
    "            pmin += 1\n",
    "        bmax = int((10**n * a) / (pmin * a - 10**n))\n",
    "        if bmax < a:\n",
    "            return None\n",
    "        solutions = 0\n",
    "        for b in range(a, bmax + 1):\n",
    "            if 10**n * (a + b) % (a * b) == 0:\n",
    "                solutions += 1\n",
    "        return solutions\n",
    "    infinite_solutions = map(solve_for_a, count(1))\n",
    "    solutions = takewhile(lambda s: s is not None, infinite_solutions)\n",
    "    return sum(solutions)"
   ]
  },
  {
   "cell_type": "code",
   "execution_count": null,
   "metadata": {
    "scrolled": true
   },
   "outputs": [],
   "source": [
    "%%time\n",
    "[elegant(n) for n in range(1, 4)]"
   ]
  },
  {
   "cell_type": "markdown",
   "metadata": {},
   "source": [
    "# Combine brute force with elegant solution"
   ]
  },
  {
   "cell_type": "code",
   "execution_count": null,
   "metadata": {},
   "outputs": [],
   "source": [
    "def solve2(n):\n",
    "    infer = lambda p, a: int((10**n * a) / (p * a - 10**n))\n",
    "    def solve_for_a(a):\n",
    "        check_solution = lambda b: 10**n * (a + b) % (a * b) == 0\n",
    "        solutions = set()#0\n",
    "        p = int(10**n / a) + 1\n",
    "        b = infer(p, a)\n",
    "        while b >= a:\n",
    "            #if check_solution(b) or check_solution(b + 1):\n",
    "            if check_solution(b):\n",
    "                #print(a, b, p)\n",
    "                solutions.add((a, b))\n",
    "                #solutions += 1\n",
    "            p += 1\n",
    "            b = infer(p, a)\n",
    "        return len(solutions)\n",
    "    a = 1\n",
    "    solutions = 0\n",
    "    while True:\n",
    "        solutions += solve_for_a(a)\n",
    "        a += 1\n",
    "        p = int(10**n / a) + 1\n",
    "        b = infer(p, a)\n",
    "        if b < a:\n",
    "            break\n",
    "    print(f\"{n}: {solutions}\")\n",
    "    return solutions"
   ]
  },
  {
   "cell_type": "code",
   "execution_count": null,
   "metadata": {},
   "outputs": [],
   "source": [
    "[solve2(n) for n in range(1, 6)]"
   ]
  },
  {
   "cell_type": "markdown",
   "metadata": {},
   "source": [
    "## For n = 1, why is 3, 6, 5 a solution, but 3, 7, p is not?"
   ]
  },
  {
   "cell_type": "markdown",
   "metadata": {},
   "source": [
    "$10*(3 + 6) = p * 3 * 6 -> (2.5)(3.3) = (p)(3)(2.3)$\n",
    "\n",
    "Cancelling factors:\n",
    "\n",
    "$p = \\frac{2.5.3.3}{3.2.3} = 5$"
   ]
  },
  {
   "cell_type": "markdown",
   "metadata": {},
   "source": [
    "$10*(3 + 7) = p * 3 * 7 -> (2.5)(2.5) = (p)(3)(7)$\n",
    "\n",
    "Cancelling factors:\n",
    "\n",
    "$p = \\frac{2.5.2.5}{3.7}$ -> does not reduce"
   ]
  },
  {
   "cell_type": "markdown",
   "metadata": {},
   "source": [
    "# Check solutions for n = 2 "
   ]
  },
  {
   "cell_type": "code",
   "execution_count": null,
   "metadata": {},
   "outputs": [],
   "source": [
    "def print_solutions(n):\n",
    "    def f(n, a, pmin, bmax):\n",
    "        for b in range(bmax, a - 1, -1):\n",
    "            # if 10**n * (a + b) % (a * b) == 0:\n",
    "            #     print(f\"{10**n} x ({a} + {b}) = {10**n * (a + b)} = p x {a} x {b} --> p = {10**n * (a + b) / (a * b):.3f} --> {10**n * (a + b) % (a * b) == 0}\")\n",
    "            print(f\"{10**n} x ({a} + {b}) = {10**n * (a + b)} = p x {a} x {b} --> p = {10**n * (a + b) / (a * b):.3f} --> {10**n * (a + b) % (a * b) == 0}\")\n",
    "    a = 1\n",
    "    while True:\n",
    "        pmin = ceil(10**n / a) if (10**n / a) < ceil(10**n / a) else ceil(10**n / a) + 1\n",
    "        bmax = (10**n * a) // (pmin * a - 10**n)\n",
    "        if a <= bmax:\n",
    "            f(n, a, pmin, bmax)\n",
    "            a += 1\n",
    "        else:\n",
    "            break"
   ]
  },
  {
   "cell_type": "code",
   "execution_count": null,
   "metadata": {},
   "outputs": [],
   "source": [
    "def print_ranges(n):\n",
    "    a = 1\n",
    "    while True:\n",
    "        pmin = ceil(10**n / a) if (10**n / a) < ceil(10**n / a) else ceil(10**n / a) + 1\n",
    "        bmax = (10**n * a) // (pmin * a - 10**n)\n",
    "        if a <= bmax:\n",
    "            solutions = sum(1 for b in range(bmax, a - 1, -1) if 10**n * (a + b) % (a * b) == 0)\n",
    "            print(f\"n: {n}, a: {a}, minimum p : {pmin}, maximum b: {bmax}, number of solutions: {solutions}\")\n",
    "            a += 1\n",
    "        else:\n",
    "            break"
   ]
  },
  {
   "cell_type": "code",
   "execution_count": null,
   "metadata": {
    "scrolled": true
   },
   "outputs": [],
   "source": [
    "print_solutions(2)"
   ]
  },
  {
   "cell_type": "code",
   "execution_count": null,
   "metadata": {},
   "outputs": [],
   "source": [
    "print_ranges(2)"
   ]
  },
  {
   "cell_type": "markdown",
   "metadata": {},
   "source": [
    "### Taking a closer look at n = 2, a = 180"
   ]
  },
  {
   "cell_type": "markdown",
   "metadata": {},
   "source": [
    "When $n=2$ and $a=180$, the minimum value for $p$ is $\\lceil \\frac {10^2}{180} \\rceil=1$\n",
    "\n",
    "The maximum value of $b$ is therefore $\\frac{10^2  a}{p_{min} a - 10^2} = \\frac{18,000}{180 - 100} = 225$\n",
    "\n",
    "So we will end up evaluating all possibilities for $b$ in the range $[180, 225]$"
   ]
  },
  {
   "cell_type": "code",
   "execution_count": null,
   "metadata": {},
   "outputs": [],
   "source": [
    "for b in range(180, 226):\n",
    "    n, a = 2, 180\n",
    "    print(f\"{10**n} x ({a} + {b}) = {10**n * (a + b)} = p x {a} x {b} --> p = {10**n * (a + b) / (a * b):.3f} --> {10**n * (a + b) % (a * b) == 0}\")"
   ]
  },
  {
   "cell_type": "markdown",
   "metadata": {},
   "source": [
    "The values for $p$ are all non-integral except for $p = 1$, can we calculate a value $p_{max}$?"
   ]
  },
  {
   "cell_type": "markdown",
   "metadata": {},
   "source": [
    "Rearrange equation as follows:\n",
    "\n",
    "$10^n(a + b) = pab$\n",
    "\n",
    "For a given value of $a$ we were calculating the minimum value of $p$ as follows:\n",
    "\n",
    "$p_{min} = \\frac{10^n}{a}$\n",
    "\n",
    "But is this a minimum? This minimum is calculated based on the identity $b = 1$. But $b$ cannot be less than $a$.\n",
    "\n",
    "So the minimum value of $pab$ is $pa^2$.\n",
    "\n",
    "$10^n(a + a) = 2(10^n)a = pa^2 \\Rightarrow p = \\frac {2(10^n)}{a}$\n",
    "\n",
    "In the example above ($n=2,a=180$), this would give $p_{min}= \\lceil \\frac{200}{180} \\rceil = 1$"
   ]
  },
  {
   "cell_type": "markdown",
   "metadata": {},
   "source": [
    "We know $p_{min}$ for given $a$; we can just take this value and keep incrementing it until we get an implied value for $b$ less than $a$."
   ]
  },
  {
   "cell_type": "code",
   "execution_count": null,
   "metadata": {},
   "outputs": [],
   "source": [
    "def print_ranges_alternate(n, show_solutions_only=False):\n",
    "    a, s = 1, 0\n",
    "    while True:\n",
    "        p = 1\n",
    "        while p * a - 10**n <= 0:\n",
    "            p += 1\n",
    "        if a > (10**n * a) / (p * a - 10**n):\n",
    "            break\n",
    "        while True:\n",
    "            b = (10**n * a) / (p * a - 10**n)\n",
    "            if b < a:\n",
    "                break\n",
    "            if b.is_integer():\n",
    "                s += 1\n",
    "            if show_solutions_only:\n",
    "                if b.is_integer():\n",
    "                    print(f\"n: {n}, a: {a}, b: {b:.3f}, p : {p}, is solution: {b.is_integer()}\")\n",
    "            else:\n",
    "                print(f\"n: {n}, a: {a}, b: {b:.3f}, p : {p}, is solution: {b.is_integer()}\")\n",
    "            p += 1\n",
    "        a += 1\n",
    "    print('-' * 60)\n",
    "    print(s)"
   ]
  },
  {
   "cell_type": "code",
   "execution_count": null,
   "metadata": {},
   "outputs": [],
   "source": [
    "def print_solution_count_breakdown(n):\n",
    "    a = 1\n",
    "    while True:\n",
    "        p, s = 1, 0\n",
    "        while p * a - 10**n <= 0:\n",
    "            p += 1\n",
    "        if a > (10**n * a) / (p * a - 10**n):\n",
    "            break\n",
    "        while True:\n",
    "            b = (10**n * a) / (p * a - 10**n)\n",
    "            if b < a:\n",
    "                break\n",
    "            if b.is_integer():\n",
    "                s += 1\n",
    "            p += 1\n",
    "        print(f\"n: {n}, a: {a}, solution count: {s}\")\n",
    "        a += 1"
   ]
  },
  {
   "cell_type": "code",
   "execution_count": null,
   "metadata": {
    "scrolled": true
   },
   "outputs": [],
   "source": [
    "print_ranges_alternate(1)"
   ]
  },
  {
   "cell_type": "code",
   "execution_count": null,
   "metadata": {},
   "outputs": [],
   "source": [
    "print_ranges_alternate(1, True)"
   ]
  },
  {
   "cell_type": "code",
   "execution_count": null,
   "metadata": {
    "scrolled": true
   },
   "outputs": [],
   "source": [
    "print_ranges_alternate(2, True)"
   ]
  },
  {
   "cell_type": "code",
   "execution_count": null,
   "metadata": {},
   "outputs": [],
   "source": [
    "print_ranges_alternate(3, True)"
   ]
  },
  {
   "cell_type": "code",
   "execution_count": null,
   "metadata": {},
   "outputs": [],
   "source": [
    "print_ranges_alternate(3)"
   ]
  },
  {
   "cell_type": "markdown",
   "metadata": {},
   "source": [
    "# Conjecture"
   ]
  },
  {
   "cell_type": "markdown",
   "metadata": {},
   "source": [
    "For some $n$ and $a$, if $a \\cdot 10^n \\mod (p \\cdot a - 10^n) = 0$, then there is there is a solution $p, a, \\frac{a.10^n}{(p.a - 10^n)}$"
   ]
  },
  {
   "cell_type": "markdown",
   "metadata": {},
   "source": [
    "$p_{min} = \\lceil \\frac{10^n}{a} \\rceil, p_{max} = 2 \\cdot p_{min}$\n",
    "\n",
    "(if $a \\cdot p_{min} = 10^n$ then $p_{min} = p_{min} + 1$)"
   ]
  },
  {
   "cell_type": "markdown",
   "metadata": {},
   "source": [
    "$a_{max} = 2 \\cdot 10^n$"
   ]
  },
  {
   "cell_type": "code",
   "execution_count": null,
   "metadata": {},
   "outputs": [],
   "source": [
    "for p in range(11, 21):\n",
    "    n, a = 1, 1\n",
    "    print(f\"n: {n}, a: {a}, p: {p}, is solution: {(a * 10**n) % (p * a - 10**n) == 0}\")"
   ]
  },
  {
   "cell_type": "code",
   "execution_count": null,
   "metadata": {},
   "outputs": [],
   "source": [
    "for p in range(6, 11):\n",
    "    n, a = 1, 2\n",
    "    print(f\"n: {n}, a: {a}, p: {p}, is solution: {(a * 10**n) % (p * a - 10**n) == 0}\")"
   ]
  },
  {
   "cell_type": "code",
   "execution_count": null,
   "metadata": {
    "scrolled": true
   },
   "outputs": [],
   "source": [
    "for p in range(4, 7):\n",
    "    n, a = 1, 3\n",
    "    print(f\"n: {n}, a: {a}, p: {p}, is solution: {(a * 10**n) % (p * a - 10**n) == 0}\")"
   ]
  },
  {
   "cell_type": "code",
   "execution_count": null,
   "metadata": {},
   "outputs": [],
   "source": [
    "def solve3(n):\n",
    "    def solve_for_a(n, a):\n",
    "        pmin = ceil(10**n / a)\n",
    "        pmax = 2 * pmin\n",
    "        if pmin * a == 10**n:\n",
    "            pmin += 1\n",
    "        s = 0\n",
    "        for p in range(pmin, pmax + 1):\n",
    "            if (a * 10**n) % (p * a - 10**n) == 0:\n",
    "                s += 1\n",
    "        return s\n",
    "    return sum(solve_for_a(n, a) for a in range(1, 2 * 10**n + 1))"
   ]
  }
 ],
 "metadata": {
  "kernelspec": {
   "display_name": "Python 3",
   "language": "python",
   "name": "python3"
  },
  "language_info": {
   "codemirror_mode": {
    "name": "ipython",
    "version": 3
   },
   "file_extension": ".py",
   "mimetype": "text/x-python",
   "name": "python",
   "nbconvert_exporter": "python",
   "pygments_lexer": "ipython3",
   "version": "3.8.0"
  }
 },
 "nbformat": 4,
 "nbformat_minor": 4
}
